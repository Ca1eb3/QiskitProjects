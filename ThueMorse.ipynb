{
 "cells": [
  {
   "cell_type": "code",
   "execution_count": 81,
   "metadata": {},
   "outputs": [
    {
     "data": {
      "text/latex": [
       "$$ |1\\rangle$$"
      ],
      "text/plain": [
       "<IPython.core.display.Latex object>"
      ]
     },
     "metadata": {},
     "output_type": "display_data"
    },
    {
     "data": {
      "text/latex": [
       "$$ |0\\rangle$$"
      ],
      "text/plain": [
       "<IPython.core.display.Latex object>"
      ]
     },
     "metadata": {},
     "output_type": "display_data"
    },
    {
     "name": "stdout",
     "output_type": "stream",
     "text": [
      "0110\n",
      "done\n"
     ]
    }
   ],
   "source": [
    "# Caleb Smith\n",
    "# 09/14/2023\n",
    "# An algorithm that uses the column vector representation of a classical state and the pauli x operator to generate the next term in the sequence\n",
    "# imports\n",
    "from qiskit import QuantumRegister, ClassicalRegister, QuantumCircuit, BasicAer, execute\n",
    "from qiskit.quantum_info import Statevector, Operator\n",
    "from numpy import pi\n",
    "import matplotlib\n",
    "import numpy as np\n",
    "\n",
    "def generate_thue_morse(term_number):\n",
    "    # set initial values\n",
    "    ket_0 = Statevector.from_label(\"0\")\n",
    "    ket_1 = Statevector.from_label(\"1\")\n",
    "    term_value_string = \"\"\n",
    "    term_value = None\n",
    "    # if first term generate base case else calculate the term iteratively\n",
    "    if (term_number == 1):\n",
    "        print(0)\n",
    "    else:\n",
    "        # set initial value to base case\n",
    "        term_value = 0\n",
    "        calculation = 0\n",
    "\n",
    "        # setup Quantum circuit\n",
    "        qreg_q = QuantumRegister(2, 'q')\n",
    "        circuit = QuantumCircuit(qreg_q)\n",
    "        circuit.x(0)\n",
    "\n",
    "        circuit.x(0)\n",
    "        circuit.x(1)\n",
    "\n",
    "        # perform quantum simulation\n",
    "        simulator = BasicAer.get_backend('statevector_simulator')\n",
    "        job = execute(circuit, simulator)\n",
    "        result = job.result()\n",
    "        statevector = Statevector(result.get_statevector())\n",
    "        index = bin(statevector.data.argmax())[2:]\n",
    "        \n",
    "        # sub divide into component statevectors then concatenate the column vector representations\n",
    "        for i in index:\n",
    "            sub_statevector = statevector.from_label(i)\n",
    "            if ket_0.equiv(sub_statevector):\n",
    "                term_value_string = term_value_string + \"10\"\n",
    "            elif ket_1.equiv(sub_statevector):\n",
    "                term_value_string = term_value_string + \"01\"\n",
    "\n",
    "    # return the calculated term\n",
    "    return term_value_string\n",
    "        \n",
    "\n",
    "term_number = int(input(\"Term of Thue-Morse sequence to display\"))\n",
    "\n",
    "print(generate_thue_morse(term_number))\n",
    "\n",
    "# display(term_value_string)\n",
    "# display(statevector.draw(\"latex\"))\n",
    "# display(index)\n",
    "# display(circuit.draw(\"mpl\"))\n",
    "print('done')"
   ]
  },
  {
   "cell_type": "code",
   "execution_count": 62,
   "metadata": {},
   "outputs": [
    {
     "name": "stdout",
     "output_type": "stream",
     "text": [
      "[Statevector([0.+0.j, 1.+0.j],\n",
      "            dims=(2,)), Statevector([1.+0.j, 0.+0.j],\n",
      "            dims=(2,))]\n"
     ]
    }
   ],
   "source": [
    "from qiskit.quantum_info import Statevector\n",
    "from qiskit.extensions import Initialize\n",
    "\n",
    "def get_component_statevectors(input_statevector):\n",
    "    # Create the individual qubit statevectors\n",
    "    qubit_1_state = Statevector.from_label('1')\n",
    "    qubit_0_state = Statevector.from_label('0')\n",
    "\n",
    "    # Calculate the tensor product of the individual statevectors\n",
    "    composite_state = qubit_1_state.tensor(qubit_0_state)\n",
    "\n",
    "    # Check if the input statevector matches the composite statevector\n",
    "    if input_statevector.equiv(composite_state):\n",
    "        # Return a list of the individual statevectors\n",
    "        return [qubit_1_state, qubit_0_state]\n",
    "    else:\n",
    "        # Handle the case where the input statevector does not match the composite statevector\n",
    "        raise ValueError(\"Input statevector does not match the expected composite statevector\")\n",
    "\n",
    "# Example usage:\n",
    "input_statevector = Statevector.from_label('10')\n",
    "component_statevectors = get_component_statevectors(input_statevector)\n",
    "print(component_statevectors)"
   ]
  }
 ],
 "metadata": {
  "kernelspec": {
   "display_name": "quiskit-stable",
   "language": "python",
   "name": "python3"
  },
  "language_info": {
   "codemirror_mode": {
    "name": "ipython",
    "version": 3
   },
   "file_extension": ".py",
   "mimetype": "text/x-python",
   "name": "python",
   "nbconvert_exporter": "python",
   "pygments_lexer": "ipython3",
   "version": "3.11.4"
  },
  "orig_nbformat": 4
 },
 "nbformat": 4,
 "nbformat_minor": 2
}
