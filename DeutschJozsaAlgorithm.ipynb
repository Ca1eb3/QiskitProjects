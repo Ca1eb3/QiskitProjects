{
 "cells": [
  {
   "cell_type": "markdown",
   "metadata": {},
   "source": [
    "File Contains to Algorithms the first is Deutsche's algorithm which given an arbitrary function f:{0,1}-->{0,1} determines whether the function is constant or balanced. The second of the two algorithms is the Deutsche-Jozsa algorithm which generalizes Deutsches algorithm to a function f:{0,1}^n-->{0,1}."
   ]
  },
  {
   "cell_type": "code",
   "execution_count": null,
   "metadata": {},
   "outputs": [],
   "source": [
    "# Caleb Smith\n",
    "# 09/25/2023\n",
    "# Deutsche's algorithm\n",
    "# imports\n",
    "from qiskit import QuantumCircuit, QuantumRegister, ClassicalRegister, BasicAer, execute\n",
    "\n",
    "\n"
   ]
  }
 ],
 "metadata": {
  "kernelspec": {
   "display_name": "Qiskit (stable)",
   "language": "python",
   "name": "qiskit-stable"
  },
  "language_info": {
   "name": "python",
   "version": "3.11.4"
  },
  "orig_nbformat": 4
 },
 "nbformat": 4,
 "nbformat_minor": 2
}
