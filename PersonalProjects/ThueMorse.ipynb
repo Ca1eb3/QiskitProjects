{
 "cells": [
  {
   "cell_type": "markdown",
   "metadata": {},
   "source": [
    "Defines an algorithm that uses a quantum circuit to calculate the specified term of the Thue-Morse sequence. This algorithm makes use of the pauli X gate acting on a Statevector consisting of component statevectors |0> and |1>. Using the columnvector representation of the component vectors the next term is then generated."
   ]
  },
  {
   "cell_type": "code",
   "execution_count": 89,
   "metadata": {},
   "outputs": [],
   "source": [
    "# Caleb Smith\n",
    "# 09/14/2023\n",
    "# An algorithm that uses the column vector representation of a classical state and the pauli x operator to generate the next term in the sequence\n",
    "# imports\n",
    "from qiskit import QuantumRegister, QuantumCircuit, BasicAer, execute\n",
    "from qiskit.quantum_info import Statevector\n",
    "from numpy import pi\n",
    "\n",
    "def generate_thue_morse(term_number):\n",
    "    # set initial values\n",
    "    ket_0 = Statevector.from_label(\"0\")\n",
    "    ket_1 = Statevector.from_label(\"1\")\n",
    "    term_value_string = \"0\"\n",
    "    # if first term generate base case else calculate the term iteratively\n",
    "    if (term_number == 0):\n",
    "        return 0\n",
    "    else:\n",
    "        # set initial value to base case\n",
    "        term_value_length = 1\n",
    "\n",
    "        for calculation in range(term_number):\n",
    "            # initialize circuit\n",
    "            qreg_q = None\n",
    "            circuit = None\n",
    "            # setup Quantum circuit\n",
    "            qreg_q = QuantumRegister(term_value_length, 'q')\n",
    "            circuit = QuantumCircuit(qreg_q)\n",
    "            \n",
    "            count = len(term_value_string) - 1\n",
    "            for i in term_value_string:\n",
    "                if (int(i) == 1):\n",
    "                    circuit.x(count)\n",
    "                count -= 1\n",
    "\n",
    "            for i in range(term_value_length):\n",
    "                circuit.x(i)\n",
    "\n",
    "            # perform quantum simulation\n",
    "            simulator = BasicAer.get_backend('statevector_simulator')\n",
    "            job = execute(circuit, simulator)\n",
    "            result = job.result()\n",
    "            statevector = Statevector(result.get_statevector())\n",
    "            index = bin(statevector.data.argmax())[2:]\n",
    "\n",
    "            # prepend 0s to bitstring if it is not equal to the number of qubits\n",
    "            while len(index) != term_value_length:\n",
    "                index = \"0\" + index\n",
    "            \n",
    "            # sub divide into component statevectors then concatenate the column vector representations\n",
    "            term_value_string = \"\"\n",
    "            for i in index:\n",
    "                sub_statevector = statevector.from_label(i)\n",
    "                if ket_0.equiv(sub_statevector):\n",
    "                    term_value_string = term_value_string + \"10\"\n",
    "                elif ket_1.equiv(sub_statevector):\n",
    "                    term_value_string = term_value_string + \"01\"\n",
    "\n",
    "            term_value_length = len(term_value_string)\n",
    "\n",
    "    # return the calculated term\n",
    "    return term_value_string\n",
    "        "
   ]
  },
  {
   "cell_type": "markdown",
   "metadata": {},
   "source": [
    "Provide Input to generate the desired term of Thue-Morse. With the statevector_simulator backend the highest term you can calculate is term number 5. Indexing starts from term number 0. Each term takes 2^n qubits to calculate."
   ]
  },
  {
   "cell_type": "code",
   "execution_count": 90,
   "metadata": {},
   "outputs": [
    {
     "name": "stdout",
     "output_type": "stream",
     "text": [
      "Term Number 3 of Thue-Morse Sequence:\n",
      "01101001\n"
     ]
    }
   ],
   "source": [
    "term_number = int(input(\"Term of Thue-Morse sequence to display\"))\n",
    "print(\"Term Number \" + str(term_number) + \" of Thue-Morse Sequence:\")\n",
    "print(generate_thue_morse(term_number))"
   ]
  }
 ],
 "metadata": {
  "kernelspec": {
   "display_name": "quiskit-stable",
   "language": "python",
   "name": "python3"
  },
  "language_info": {
   "codemirror_mode": {
    "name": "ipython",
    "version": 3
   },
   "file_extension": ".py",
   "mimetype": "text/x-python",
   "name": "python",
   "nbconvert_exporter": "python",
   "pygments_lexer": "ipython3",
   "version": "3.11.4"
  },
  "orig_nbformat": 4
 },
 "nbformat": 4,
 "nbformat_minor": 2
}
